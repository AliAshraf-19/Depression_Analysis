{
  "nbformat": 4,
  "nbformat_minor": 0,
  "metadata": {
    "colab": {
      "provenance": [],
      "gpuType": "T4"
    },
    "kernelspec": {
      "name": "python3",
      "display_name": "Python 3"
    },
    "language_info": {
      "name": "python"
    },
    "accelerator": "GPU"
  },
  "cells": [
    {
      "cell_type": "code",
      "execution_count": 1,
      "metadata": {
        "id": "vKusmtu1ZmdW"
      },
      "outputs": [],
      "source": [
        "import pandas as pd\n",
        "import numpy as np\n",
        "\n",
        "from sklearn.preprocessing import OrdinalEncoder, MinMaxScaler, OneHotEncoder, LabelEncoder\n",
        "from sklearn.model_selection import train_test_split, GridSearchCV\n",
        "from sklearn.decomposition import PCA\n",
        "from sklearn.compose import ColumnTransformer\n",
        "from sklearn.pipeline import Pipeline\n",
        "from imblearn.over_sampling import SMOTE\n",
        "\n",
        "\n",
        "\n",
        "# Classification Models\n",
        "from sklearn.linear_model import LogisticRegression\n",
        "from sklearn.neighbors import KNeighborsClassifier\n",
        "from sklearn.ensemble import RandomForestClassifier\n",
        "from sklearn.tree import DecisionTreeClassifier\n",
        "from xgboost import XGBClassifier\n",
        "from sklearn import svm\n",
        "\n",
        "from sklearn.metrics import accuracy_score, confusion_matrix, precision_score, recall_score, ConfusionMatrixDisplay, classification_report"
      ]
    },
    {
      "cell_type": "code",
      "source": [
        "pd.set_option('mode.chained_assignment', None)"
      ],
      "metadata": {
        "id": "B8kgpQgdQiRE"
      },
      "execution_count": 2,
      "outputs": []
    },
    {
      "cell_type": "code",
      "source": [
        "from google.colab import drive\n",
        "drive.mount('/content/drive')"
      ],
      "metadata": {
        "colab": {
          "base_uri": "https://localhost:8080/"
        },
        "id": "qVO5JJf6in0k",
        "outputId": "a86bb30b-70b3-42e8-f32e-01c798e810ad"
      },
      "execution_count": 3,
      "outputs": [
        {
          "output_type": "stream",
          "name": "stdout",
          "text": [
            "Drive already mounted at /content/drive; to attempt to forcibly remount, call drive.mount(\"/content/drive\", force_remount=True).\n"
          ]
        }
      ]
    },
    {
      "cell_type": "code",
      "source": [
        "path = \"/content/drive/MyDrive/AXA_Submission/\"\n",
        "df=pd.read_csv(path+'depression_data.csv')\n",
        "df.head()"
      ],
      "metadata": {
        "colab": {
          "base_uri": "https://localhost:8080/",
          "height": 365
        },
        "id": "1s-1uhHEk7RG",
        "outputId": "ba19a135-e06c-41da-9ab8-fe36ff7dc834"
      },
      "execution_count": 4,
      "outputs": [
        {
          "output_type": "execute_result",
          "data": {
            "text/plain": [
              "               Name  Age Marital Status    Education Level  \\\n",
              "0  Christine Barker   31        Married  Bachelor's Degree   \n",
              "1  Jacqueline Lewis   55        Married        High School   \n",
              "2    Shannon Church   78        Widowed    Master's Degree   \n",
              "3    Charles Jordan   58       Divorced    Master's Degree   \n",
              "4      Michael Rich   18         Single        High School   \n",
              "\n",
              "   Number of Children Smoking Status Physical Activity Level  \\\n",
              "0                   2     Non-smoker                  Active   \n",
              "1                   1     Non-smoker               Sedentary   \n",
              "2                   1     Non-smoker               Sedentary   \n",
              "3                   3     Non-smoker                Moderate   \n",
              "4                   0     Non-smoker               Sedentary   \n",
              "\n",
              "  Employment Status     Income Alcohol Consumption Dietary Habits  \\\n",
              "0        Unemployed   26265.67            Moderate       Moderate   \n",
              "1          Employed   42710.36                High      Unhealthy   \n",
              "2          Employed  125332.79                 Low      Unhealthy   \n",
              "3        Unemployed    9992.78            Moderate       Moderate   \n",
              "4        Unemployed    8595.08                 Low       Moderate   \n",
              "\n",
              "  Sleep Patterns History of Mental Illness History of Substance Abuse  \\\n",
              "0           Fair                       Yes                         No   \n",
              "1           Fair                       Yes                         No   \n",
              "2           Good                        No                         No   \n",
              "3           Poor                        No                         No   \n",
              "4           Fair                       Yes                         No   \n",
              "\n",
              "  Family History of Depression Chronic Medical Conditions  \n",
              "0                          Yes                        Yes  \n",
              "1                           No                        Yes  \n",
              "2                          Yes                         No  \n",
              "3                           No                         No  \n",
              "4                          Yes                        Yes  "
            ],
            "text/html": [
              "\n",
              "  <div id=\"df-515dfc0f-f535-4455-bcd8-af88738c5115\" class=\"colab-df-container\">\n",
              "    <div>\n",
              "<style scoped>\n",
              "    .dataframe tbody tr th:only-of-type {\n",
              "        vertical-align: middle;\n",
              "    }\n",
              "\n",
              "    .dataframe tbody tr th {\n",
              "        vertical-align: top;\n",
              "    }\n",
              "\n",
              "    .dataframe thead th {\n",
              "        text-align: right;\n",
              "    }\n",
              "</style>\n",
              "<table border=\"1\" class=\"dataframe\">\n",
              "  <thead>\n",
              "    <tr style=\"text-align: right;\">\n",
              "      <th></th>\n",
              "      <th>Name</th>\n",
              "      <th>Age</th>\n",
              "      <th>Marital Status</th>\n",
              "      <th>Education Level</th>\n",
              "      <th>Number of Children</th>\n",
              "      <th>Smoking Status</th>\n",
              "      <th>Physical Activity Level</th>\n",
              "      <th>Employment Status</th>\n",
              "      <th>Income</th>\n",
              "      <th>Alcohol Consumption</th>\n",
              "      <th>Dietary Habits</th>\n",
              "      <th>Sleep Patterns</th>\n",
              "      <th>History of Mental Illness</th>\n",
              "      <th>History of Substance Abuse</th>\n",
              "      <th>Family History of Depression</th>\n",
              "      <th>Chronic Medical Conditions</th>\n",
              "    </tr>\n",
              "  </thead>\n",
              "  <tbody>\n",
              "    <tr>\n",
              "      <th>0</th>\n",
              "      <td>Christine Barker</td>\n",
              "      <td>31</td>\n",
              "      <td>Married</td>\n",
              "      <td>Bachelor's Degree</td>\n",
              "      <td>2</td>\n",
              "      <td>Non-smoker</td>\n",
              "      <td>Active</td>\n",
              "      <td>Unemployed</td>\n",
              "      <td>26265.67</td>\n",
              "      <td>Moderate</td>\n",
              "      <td>Moderate</td>\n",
              "      <td>Fair</td>\n",
              "      <td>Yes</td>\n",
              "      <td>No</td>\n",
              "      <td>Yes</td>\n",
              "      <td>Yes</td>\n",
              "    </tr>\n",
              "    <tr>\n",
              "      <th>1</th>\n",
              "      <td>Jacqueline Lewis</td>\n",
              "      <td>55</td>\n",
              "      <td>Married</td>\n",
              "      <td>High School</td>\n",
              "      <td>1</td>\n",
              "      <td>Non-smoker</td>\n",
              "      <td>Sedentary</td>\n",
              "      <td>Employed</td>\n",
              "      <td>42710.36</td>\n",
              "      <td>High</td>\n",
              "      <td>Unhealthy</td>\n",
              "      <td>Fair</td>\n",
              "      <td>Yes</td>\n",
              "      <td>No</td>\n",
              "      <td>No</td>\n",
              "      <td>Yes</td>\n",
              "    </tr>\n",
              "    <tr>\n",
              "      <th>2</th>\n",
              "      <td>Shannon Church</td>\n",
              "      <td>78</td>\n",
              "      <td>Widowed</td>\n",
              "      <td>Master's Degree</td>\n",
              "      <td>1</td>\n",
              "      <td>Non-smoker</td>\n",
              "      <td>Sedentary</td>\n",
              "      <td>Employed</td>\n",
              "      <td>125332.79</td>\n",
              "      <td>Low</td>\n",
              "      <td>Unhealthy</td>\n",
              "      <td>Good</td>\n",
              "      <td>No</td>\n",
              "      <td>No</td>\n",
              "      <td>Yes</td>\n",
              "      <td>No</td>\n",
              "    </tr>\n",
              "    <tr>\n",
              "      <th>3</th>\n",
              "      <td>Charles Jordan</td>\n",
              "      <td>58</td>\n",
              "      <td>Divorced</td>\n",
              "      <td>Master's Degree</td>\n",
              "      <td>3</td>\n",
              "      <td>Non-smoker</td>\n",
              "      <td>Moderate</td>\n",
              "      <td>Unemployed</td>\n",
              "      <td>9992.78</td>\n",
              "      <td>Moderate</td>\n",
              "      <td>Moderate</td>\n",
              "      <td>Poor</td>\n",
              "      <td>No</td>\n",
              "      <td>No</td>\n",
              "      <td>No</td>\n",
              "      <td>No</td>\n",
              "    </tr>\n",
              "    <tr>\n",
              "      <th>4</th>\n",
              "      <td>Michael Rich</td>\n",
              "      <td>18</td>\n",
              "      <td>Single</td>\n",
              "      <td>High School</td>\n",
              "      <td>0</td>\n",
              "      <td>Non-smoker</td>\n",
              "      <td>Sedentary</td>\n",
              "      <td>Unemployed</td>\n",
              "      <td>8595.08</td>\n",
              "      <td>Low</td>\n",
              "      <td>Moderate</td>\n",
              "      <td>Fair</td>\n",
              "      <td>Yes</td>\n",
              "      <td>No</td>\n",
              "      <td>Yes</td>\n",
              "      <td>Yes</td>\n",
              "    </tr>\n",
              "  </tbody>\n",
              "</table>\n",
              "</div>\n",
              "    <div class=\"colab-df-buttons\">\n",
              "\n",
              "  <div class=\"colab-df-container\">\n",
              "    <button class=\"colab-df-convert\" onclick=\"convertToInteractive('df-515dfc0f-f535-4455-bcd8-af88738c5115')\"\n",
              "            title=\"Convert this dataframe to an interactive table.\"\n",
              "            style=\"display:none;\">\n",
              "\n",
              "  <svg xmlns=\"http://www.w3.org/2000/svg\" height=\"24px\" viewBox=\"0 -960 960 960\">\n",
              "    <path d=\"M120-120v-720h720v720H120Zm60-500h600v-160H180v160Zm220 220h160v-160H400v160Zm0 220h160v-160H400v160ZM180-400h160v-160H180v160Zm440 0h160v-160H620v160ZM180-180h160v-160H180v160Zm440 0h160v-160H620v160Z\"/>\n",
              "  </svg>\n",
              "    </button>\n",
              "\n",
              "  <style>\n",
              "    .colab-df-container {\n",
              "      display:flex;\n",
              "      gap: 12px;\n",
              "    }\n",
              "\n",
              "    .colab-df-convert {\n",
              "      background-color: #E8F0FE;\n",
              "      border: none;\n",
              "      border-radius: 50%;\n",
              "      cursor: pointer;\n",
              "      display: none;\n",
              "      fill: #1967D2;\n",
              "      height: 32px;\n",
              "      padding: 0 0 0 0;\n",
              "      width: 32px;\n",
              "    }\n",
              "\n",
              "    .colab-df-convert:hover {\n",
              "      background-color: #E2EBFA;\n",
              "      box-shadow: 0px 1px 2px rgba(60, 64, 67, 0.3), 0px 1px 3px 1px rgba(60, 64, 67, 0.15);\n",
              "      fill: #174EA6;\n",
              "    }\n",
              "\n",
              "    .colab-df-buttons div {\n",
              "      margin-bottom: 4px;\n",
              "    }\n",
              "\n",
              "    [theme=dark] .colab-df-convert {\n",
              "      background-color: #3B4455;\n",
              "      fill: #D2E3FC;\n",
              "    }\n",
              "\n",
              "    [theme=dark] .colab-df-convert:hover {\n",
              "      background-color: #434B5C;\n",
              "      box-shadow: 0px 1px 3px 1px rgba(0, 0, 0, 0.15);\n",
              "      filter: drop-shadow(0px 1px 2px rgba(0, 0, 0, 0.3));\n",
              "      fill: #FFFFFF;\n",
              "    }\n",
              "  </style>\n",
              "\n",
              "    <script>\n",
              "      const buttonEl =\n",
              "        document.querySelector('#df-515dfc0f-f535-4455-bcd8-af88738c5115 button.colab-df-convert');\n",
              "      buttonEl.style.display =\n",
              "        google.colab.kernel.accessAllowed ? 'block' : 'none';\n",
              "\n",
              "      async function convertToInteractive(key) {\n",
              "        const element = document.querySelector('#df-515dfc0f-f535-4455-bcd8-af88738c5115');\n",
              "        const dataTable =\n",
              "          await google.colab.kernel.invokeFunction('convertToInteractive',\n",
              "                                                    [key], {});\n",
              "        if (!dataTable) return;\n",
              "\n",
              "        const docLinkHtml = 'Like what you see? Visit the ' +\n",
              "          '<a target=\"_blank\" href=https://colab.research.google.com/notebooks/data_table.ipynb>data table notebook</a>'\n",
              "          + ' to learn more about interactive tables.';\n",
              "        element.innerHTML = '';\n",
              "        dataTable['output_type'] = 'display_data';\n",
              "        await google.colab.output.renderOutput(dataTable, element);\n",
              "        const docLink = document.createElement('div');\n",
              "        docLink.innerHTML = docLinkHtml;\n",
              "        element.appendChild(docLink);\n",
              "      }\n",
              "    </script>\n",
              "  </div>\n",
              "\n",
              "\n",
              "<div id=\"df-fd054c16-d7c7-460e-8cb6-3bb75fbc40c9\">\n",
              "  <button class=\"colab-df-quickchart\" onclick=\"quickchart('df-fd054c16-d7c7-460e-8cb6-3bb75fbc40c9')\"\n",
              "            title=\"Suggest charts\"\n",
              "            style=\"display:none;\">\n",
              "\n",
              "<svg xmlns=\"http://www.w3.org/2000/svg\" height=\"24px\"viewBox=\"0 0 24 24\"\n",
              "     width=\"24px\">\n",
              "    <g>\n",
              "        <path d=\"M19 3H5c-1.1 0-2 .9-2 2v14c0 1.1.9 2 2 2h14c1.1 0 2-.9 2-2V5c0-1.1-.9-2-2-2zM9 17H7v-7h2v7zm4 0h-2V7h2v10zm4 0h-2v-4h2v4z\"/>\n",
              "    </g>\n",
              "</svg>\n",
              "  </button>\n",
              "\n",
              "<style>\n",
              "  .colab-df-quickchart {\n",
              "      --bg-color: #E8F0FE;\n",
              "      --fill-color: #1967D2;\n",
              "      --hover-bg-color: #E2EBFA;\n",
              "      --hover-fill-color: #174EA6;\n",
              "      --disabled-fill-color: #AAA;\n",
              "      --disabled-bg-color: #DDD;\n",
              "  }\n",
              "\n",
              "  [theme=dark] .colab-df-quickchart {\n",
              "      --bg-color: #3B4455;\n",
              "      --fill-color: #D2E3FC;\n",
              "      --hover-bg-color: #434B5C;\n",
              "      --hover-fill-color: #FFFFFF;\n",
              "      --disabled-bg-color: #3B4455;\n",
              "      --disabled-fill-color: #666;\n",
              "  }\n",
              "\n",
              "  .colab-df-quickchart {\n",
              "    background-color: var(--bg-color);\n",
              "    border: none;\n",
              "    border-radius: 50%;\n",
              "    cursor: pointer;\n",
              "    display: none;\n",
              "    fill: var(--fill-color);\n",
              "    height: 32px;\n",
              "    padding: 0;\n",
              "    width: 32px;\n",
              "  }\n",
              "\n",
              "  .colab-df-quickchart:hover {\n",
              "    background-color: var(--hover-bg-color);\n",
              "    box-shadow: 0 1px 2px rgba(60, 64, 67, 0.3), 0 1px 3px 1px rgba(60, 64, 67, 0.15);\n",
              "    fill: var(--button-hover-fill-color);\n",
              "  }\n",
              "\n",
              "  .colab-df-quickchart-complete:disabled,\n",
              "  .colab-df-quickchart-complete:disabled:hover {\n",
              "    background-color: var(--disabled-bg-color);\n",
              "    fill: var(--disabled-fill-color);\n",
              "    box-shadow: none;\n",
              "  }\n",
              "\n",
              "  .colab-df-spinner {\n",
              "    border: 2px solid var(--fill-color);\n",
              "    border-color: transparent;\n",
              "    border-bottom-color: var(--fill-color);\n",
              "    animation:\n",
              "      spin 1s steps(1) infinite;\n",
              "  }\n",
              "\n",
              "  @keyframes spin {\n",
              "    0% {\n",
              "      border-color: transparent;\n",
              "      border-bottom-color: var(--fill-color);\n",
              "      border-left-color: var(--fill-color);\n",
              "    }\n",
              "    20% {\n",
              "      border-color: transparent;\n",
              "      border-left-color: var(--fill-color);\n",
              "      border-top-color: var(--fill-color);\n",
              "    }\n",
              "    30% {\n",
              "      border-color: transparent;\n",
              "      border-left-color: var(--fill-color);\n",
              "      border-top-color: var(--fill-color);\n",
              "      border-right-color: var(--fill-color);\n",
              "    }\n",
              "    40% {\n",
              "      border-color: transparent;\n",
              "      border-right-color: var(--fill-color);\n",
              "      border-top-color: var(--fill-color);\n",
              "    }\n",
              "    60% {\n",
              "      border-color: transparent;\n",
              "      border-right-color: var(--fill-color);\n",
              "    }\n",
              "    80% {\n",
              "      border-color: transparent;\n",
              "      border-right-color: var(--fill-color);\n",
              "      border-bottom-color: var(--fill-color);\n",
              "    }\n",
              "    90% {\n",
              "      border-color: transparent;\n",
              "      border-bottom-color: var(--fill-color);\n",
              "    }\n",
              "  }\n",
              "</style>\n",
              "\n",
              "  <script>\n",
              "    async function quickchart(key) {\n",
              "      const quickchartButtonEl =\n",
              "        document.querySelector('#' + key + ' button');\n",
              "      quickchartButtonEl.disabled = true;  // To prevent multiple clicks.\n",
              "      quickchartButtonEl.classList.add('colab-df-spinner');\n",
              "      try {\n",
              "        const charts = await google.colab.kernel.invokeFunction(\n",
              "            'suggestCharts', [key], {});\n",
              "      } catch (error) {\n",
              "        console.error('Error during call to suggestCharts:', error);\n",
              "      }\n",
              "      quickchartButtonEl.classList.remove('colab-df-spinner');\n",
              "      quickchartButtonEl.classList.add('colab-df-quickchart-complete');\n",
              "    }\n",
              "    (() => {\n",
              "      let quickchartButtonEl =\n",
              "        document.querySelector('#df-fd054c16-d7c7-460e-8cb6-3bb75fbc40c9 button');\n",
              "      quickchartButtonEl.style.display =\n",
              "        google.colab.kernel.accessAllowed ? 'block' : 'none';\n",
              "    })();\n",
              "  </script>\n",
              "</div>\n",
              "\n",
              "    </div>\n",
              "  </div>\n"
            ],
            "application/vnd.google.colaboratory.intrinsic+json": {
              "type": "dataframe",
              "variable_name": "df"
            }
          },
          "metadata": {},
          "execution_count": 4
        }
      ]
    },
    {
      "cell_type": "code",
      "source": [
        "duplicate = df[df.duplicated()]\n",
        "\n",
        "print(f\"Duplicate Rows : {duplicate}\" )"
      ],
      "metadata": {
        "colab": {
          "base_uri": "https://localhost:8080/"
        },
        "id": "h2RLmMII4FyT",
        "outputId": "a63e57b2-d986-4730-f9c6-2da2a36a4c78"
      },
      "execution_count": 5,
      "outputs": [
        {
          "output_type": "stream",
          "name": "stdout",
          "text": [
            "Duplicate Rows : Empty DataFrame\n",
            "Columns: [Name, Age, Marital Status, Education Level, Number of Children, Smoking Status, Physical Activity Level, Employment Status, Income, Alcohol Consumption, Dietary Habits, Sleep Patterns, History of Mental Illness, History of Substance Abuse, Family History of Depression, Chronic Medical Conditions]\n",
            "Index: []\n"
          ]
        }
      ]
    },
    {
      "cell_type": "code",
      "source": [
        "print(df.isnull().sum())"
      ],
      "metadata": {
        "id": "6ZU2RYozZ2km",
        "outputId": "1e90e964-9892-43b4-892c-d8c9af7e49e9",
        "colab": {
          "base_uri": "https://localhost:8080/"
        }
      },
      "execution_count": 7,
      "outputs": [
        {
          "output_type": "stream",
          "name": "stdout",
          "text": [
            "Name                            0\n",
            "Age                             0\n",
            "Marital Status                  0\n",
            "Education Level                 0\n",
            "Number of Children              0\n",
            "Smoking Status                  0\n",
            "Physical Activity Level         0\n",
            "Employment Status               0\n",
            "Income                          0\n",
            "Alcohol Consumption             0\n",
            "Dietary Habits                  0\n",
            "Sleep Patterns                  0\n",
            "History of Mental Illness       0\n",
            "History of Substance Abuse      0\n",
            "Family History of Depression    0\n",
            "Chronic Medical Conditions      0\n",
            "dtype: int64\n"
          ]
        }
      ]
    },
    {
      "cell_type": "code",
      "source": [
        "df[\"History of Mental Illness\"].value_counts()"
      ],
      "metadata": {
        "colab": {
          "base_uri": "https://localhost:8080/",
          "height": 178
        },
        "id": "VHA-SrQ94MMw",
        "outputId": "3eea321d-0639-4c43-cc99-0371a50969be"
      },
      "execution_count": 32,
      "outputs": [
        {
          "output_type": "execute_result",
          "data": {
            "text/plain": [
              "History of Mental Illness\n",
              "No     287943\n",
              "Yes    125825\n",
              "Name: count, dtype: int64"
            ],
            "text/html": [
              "<div>\n",
              "<style scoped>\n",
              "    .dataframe tbody tr th:only-of-type {\n",
              "        vertical-align: middle;\n",
              "    }\n",
              "\n",
              "    .dataframe tbody tr th {\n",
              "        vertical-align: top;\n",
              "    }\n",
              "\n",
              "    .dataframe thead th {\n",
              "        text-align: right;\n",
              "    }\n",
              "</style>\n",
              "<table border=\"1\" class=\"dataframe\">\n",
              "  <thead>\n",
              "    <tr style=\"text-align: right;\">\n",
              "      <th></th>\n",
              "      <th>count</th>\n",
              "    </tr>\n",
              "    <tr>\n",
              "      <th>History of Mental Illness</th>\n",
              "      <th></th>\n",
              "    </tr>\n",
              "  </thead>\n",
              "  <tbody>\n",
              "    <tr>\n",
              "      <th>No</th>\n",
              "      <td>287943</td>\n",
              "    </tr>\n",
              "    <tr>\n",
              "      <th>Yes</th>\n",
              "      <td>125825</td>\n",
              "    </tr>\n",
              "  </tbody>\n",
              "</table>\n",
              "</div><br><label><b>dtype:</b> int64</label>"
            ]
          },
          "metadata": {},
          "execution_count": 32
        }
      ]
    },
    {
      "cell_type": "code",
      "source": [
        "df.info()"
      ],
      "metadata": {
        "colab": {
          "base_uri": "https://localhost:8080/"
        },
        "id": "okzDFfbvmQth",
        "outputId": "d8cd8f09-33c8-4c62-ba2b-9d43fddfc3a4"
      },
      "execution_count": 6,
      "outputs": [
        {
          "output_type": "stream",
          "name": "stdout",
          "text": [
            "<class 'pandas.core.frame.DataFrame'>\n",
            "RangeIndex: 413768 entries, 0 to 413767\n",
            "Data columns (total 16 columns):\n",
            " #   Column                        Non-Null Count   Dtype  \n",
            "---  ------                        --------------   -----  \n",
            " 0   Name                          413768 non-null  object \n",
            " 1   Age                           413768 non-null  int64  \n",
            " 2   Marital Status                413768 non-null  object \n",
            " 3   Education Level               413768 non-null  object \n",
            " 4   Number of Children            413768 non-null  int64  \n",
            " 5   Smoking Status                413768 non-null  object \n",
            " 6   Physical Activity Level       413768 non-null  object \n",
            " 7   Employment Status             413768 non-null  object \n",
            " 8   Income                        413768 non-null  float64\n",
            " 9   Alcohol Consumption           413768 non-null  object \n",
            " 10  Dietary Habits                413768 non-null  object \n",
            " 11  Sleep Patterns                413768 non-null  object \n",
            " 12  History of Mental Illness     413768 non-null  object \n",
            " 13  History of Substance Abuse    413768 non-null  object \n",
            " 14  Family History of Depression  413768 non-null  object \n",
            " 15  Chronic Medical Conditions    413768 non-null  object \n",
            "dtypes: float64(1), int64(2), object(13)\n",
            "memory usage: 50.5+ MB\n"
          ]
        }
      ]
    },
    {
      "cell_type": "code",
      "source": [
        "df.drop(columns=[\"Name\"], inplace = True)"
      ],
      "metadata": {
        "id": "14CB-UvIm6v7"
      },
      "execution_count": 6,
      "outputs": []
    },
    {
      "cell_type": "code",
      "source": [
        "def new_y(y):\n",
        "  le = LabelEncoder()\n",
        "  return le.fit_transform(y)"
      ],
      "metadata": {
        "id": "o_wktDesjZsE"
      },
      "execution_count": 7,
      "outputs": []
    },
    {
      "cell_type": "code",
      "source": [
        "def new_X(X):\n",
        "  transformer_social = ColumnTransformer(transformers=[\n",
        "    ('s1', OneHotEncoder(), ['Marital Status', 'Employment Status']),\n",
        "    ('s2', OrdinalEncoder(categories=[['High School','Associate Degree',\"Bachelor's Degree\", \"Master's Degree\",'PhD']]),['Education Level'])\n",
        "    ],remainder='drop')\n",
        "  pipe_social = Pipeline([\n",
        "    ('num_s', transformer_social),\n",
        "    ('scaler_s', MinMaxScaler()),\n",
        "    ('pca_s', PCA(n_components=1))])\n",
        "  transformer_health = ColumnTransformer(transformers=[\n",
        "    ('h1', OneHotEncoder(), ['Smoking Status', 'Sleep Patterns']),\n",
        "    ('h2', OrdinalEncoder(categories=[['Active', 'Moderate', 'Sedentary'],\n",
        "                                     ['Low','Moderate', 'High'],\n",
        "                                     ['Healthy', 'Moderate', 'Unhealthy']]),['Physical Activity Level', 'Alcohol Consumption', 'Dietary Habits'])\n",
        "    ],remainder='drop')\n",
        "  pipe_health = Pipeline([\n",
        "    ('num_h', transformer_health),\n",
        "    ('scaler_h', MinMaxScaler()),\n",
        "    ('pca_h', PCA(n_components=1))])\n",
        "\n",
        "  transformer_history = ColumnTransformer(transformers=[\n",
        "    ('hh1', OneHotEncoder(), ['History of Substance Abuse','Family History of Depression', 'Chronic Medical Conditions'])]\n",
        "    ,remainder='drop')\n",
        "\n",
        "  pipe_history = Pipeline([\n",
        "    ('num_h', transformer_history),\n",
        "    ('pca_h', PCA(n_components=1))])\n",
        "\n",
        "  transformer_num = ColumnTransformer(transformers=[\n",
        "    ('t1', MinMaxScaler(), [\"Age\", \"Number of Children\", \"Income\"])]\n",
        "    ,remainder='drop')\n",
        "\n",
        "  num_col = transformer_num.fit_transform(X)\n",
        "  Health_History = pipe_history.fit_transform(X)\n",
        "  Health_Status = pipe_health.fit_transform(X)\n",
        "  Social_Status = pipe_social.fit_transform(X)\n",
        "\n",
        "  return np.hstack((num_col, Social_Status,Health_Status, Health_History))"
      ],
      "metadata": {
        "id": "YbtuqYDZ5QqB"
      },
      "execution_count": 8,
      "outputs": []
    },
    {
      "cell_type": "code",
      "source": [
        "X = df.drop([\"History of Mental Illness\"], axis=1)\n",
        "y = df[\"History of Mental Illness\"]"
      ],
      "metadata": {
        "id": "fbsNbK7Qw2_J"
      },
      "execution_count": 9,
      "outputs": []
    },
    {
      "cell_type": "code",
      "source": [
        "X_train, X_test, y_train, y_test = train_test_split(X, y, train_size=0.8, test_size=0.2, random_state=0)\n"
      ],
      "metadata": {
        "id": "5RmS7H_WQ17y"
      },
      "execution_count": 10,
      "outputs": []
    },
    {
      "cell_type": "code",
      "source": [
        "y_train.value_counts()"
      ],
      "metadata": {
        "colab": {
          "base_uri": "https://localhost:8080/",
          "height": 178
        },
        "id": "lRodgdLSh1-w",
        "outputId": "2204f9b2-eb6e-4803-a218-31bba44af2d5"
      },
      "execution_count": 11,
      "outputs": [
        {
          "output_type": "execute_result",
          "data": {
            "text/plain": [
              "History of Mental Illness\n",
              "No     230461\n",
              "Yes    100553\n",
              "Name: count, dtype: int64"
            ],
            "text/html": [
              "<div>\n",
              "<style scoped>\n",
              "    .dataframe tbody tr th:only-of-type {\n",
              "        vertical-align: middle;\n",
              "    }\n",
              "\n",
              "    .dataframe tbody tr th {\n",
              "        vertical-align: top;\n",
              "    }\n",
              "\n",
              "    .dataframe thead th {\n",
              "        text-align: right;\n",
              "    }\n",
              "</style>\n",
              "<table border=\"1\" class=\"dataframe\">\n",
              "  <thead>\n",
              "    <tr style=\"text-align: right;\">\n",
              "      <th></th>\n",
              "      <th>count</th>\n",
              "    </tr>\n",
              "    <tr>\n",
              "      <th>History of Mental Illness</th>\n",
              "      <th></th>\n",
              "    </tr>\n",
              "  </thead>\n",
              "  <tbody>\n",
              "    <tr>\n",
              "      <th>No</th>\n",
              "      <td>230461</td>\n",
              "    </tr>\n",
              "    <tr>\n",
              "      <th>Yes</th>\n",
              "      <td>100553</td>\n",
              "    </tr>\n",
              "  </tbody>\n",
              "</table>\n",
              "</div><br><label><b>dtype:</b> int64</label>"
            ]
          },
          "metadata": {},
          "execution_count": 11
        }
      ]
    },
    {
      "cell_type": "code",
      "source": [
        "y_test.value_counts()"
      ],
      "metadata": {
        "colab": {
          "base_uri": "https://localhost:8080/",
          "height": 178
        },
        "id": "l4umB6i4h6i1",
        "outputId": "e26c66a1-4b65-4500-8662-8fce9dda347d"
      },
      "execution_count": 13,
      "outputs": [
        {
          "output_type": "execute_result",
          "data": {
            "text/plain": [
              "History of Mental Illness\n",
              "No     57482\n",
              "Yes    25272\n",
              "Name: count, dtype: int64"
            ],
            "text/html": [
              "<div>\n",
              "<style scoped>\n",
              "    .dataframe tbody tr th:only-of-type {\n",
              "        vertical-align: middle;\n",
              "    }\n",
              "\n",
              "    .dataframe tbody tr th {\n",
              "        vertical-align: top;\n",
              "    }\n",
              "\n",
              "    .dataframe thead th {\n",
              "        text-align: right;\n",
              "    }\n",
              "</style>\n",
              "<table border=\"1\" class=\"dataframe\">\n",
              "  <thead>\n",
              "    <tr style=\"text-align: right;\">\n",
              "      <th></th>\n",
              "      <th>count</th>\n",
              "    </tr>\n",
              "    <tr>\n",
              "      <th>History of Mental Illness</th>\n",
              "      <th></th>\n",
              "    </tr>\n",
              "  </thead>\n",
              "  <tbody>\n",
              "    <tr>\n",
              "      <th>No</th>\n",
              "      <td>57482</td>\n",
              "    </tr>\n",
              "    <tr>\n",
              "      <th>Yes</th>\n",
              "      <td>25272</td>\n",
              "    </tr>\n",
              "  </tbody>\n",
              "</table>\n",
              "</div><br><label><b>dtype:</b> int64</label>"
            ]
          },
          "metadata": {},
          "execution_count": 13
        }
      ]
    },
    {
      "cell_type": "code",
      "source": [
        "X_train = new_X(X_train)\n",
        "X_test = new_X(X_test)\n",
        "y_train = new_y(y_train)\n",
        "y_test  = new_y(y_test)"
      ],
      "metadata": {
        "id": "WgXzloPqx3Az"
      },
      "execution_count": 12,
      "outputs": []
    },
    {
      "cell_type": "code",
      "source": [
        "sm = SMOTE(random_state=46)\n",
        "X_sam, y_sam = sm.fit_resample(X_train, y_train)\n",
        "\n",
        "X_train_oversampled = X_sam\n",
        "y_train_oversampled = y_sam"
      ],
      "metadata": {
        "id": "NB__5EVJlGxA"
      },
      "execution_count": 13,
      "outputs": []
    },
    {
      "cell_type": "code",
      "source": [
        "np.unique(y_train_oversampled, return_counts=True)"
      ],
      "metadata": {
        "colab": {
          "base_uri": "https://localhost:8080/"
        },
        "id": "Wg-ZwxHBI0Hz",
        "outputId": "5600cb12-fd82-465b-e8b2-a0aa1525080e"
      },
      "execution_count": 14,
      "outputs": [
        {
          "output_type": "execute_result",
          "data": {
            "text/plain": [
              "(array([0, 1]), array([230461, 230461]))"
            ]
          },
          "metadata": {},
          "execution_count": 14
        }
      ]
    },
    {
      "cell_type": "code",
      "source": [
        "clf_lr = LogisticRegression(random_state=46)\n",
        "clf_rf = RandomForestClassifier(random_state=46)\n",
        "clf_svm = svm.SVC(random_state=46)\n",
        "clf_xgb = XGBClassifier(random_state=46)\n",
        "clf_knn =  KNeighborsClassifier()"
      ],
      "metadata": {
        "id": "nQTTeeQ2AKAf"
      },
      "execution_count": 15,
      "outputs": []
    },
    {
      "cell_type": "code",
      "source": [
        "param_range = [2, 3, 4]\n",
        "param_depth = [4,5,6]\n",
        "param_range_fl = [1.0, 0.5, 0.1]\n",
        "n_estimators = [100,150,200]\n",
        "learning_rates = [0.1,0.01,0.2]\n",
        "\n",
        "lr_param_grid = [{'penalty': ['l1', 'l2'],\n",
        "                   'C': param_range_fl,\n",
        "                   'solver': ['liblinear']}]\n",
        "\n",
        "svm_param_grid = [{'kernel': ['linear', 'rbf'],\n",
        "                    'C': param_range}]\n",
        "\n",
        "rf_param_grid = [{'min_samples_leaf': param_range,\n",
        "                   'max_depth': param_depth,\n",
        "                   'n_estimators': n_estimators,\n",
        "                   'min_samples_split': param_range[1:]}]\n",
        "\n",
        "xgb_param_grid = [{'learning_rate': learning_rates,\n",
        "                    'max_depth': param_depth,\n",
        "                    'min_child_weight': param_range[:2],\n",
        "                    'subsample': param_range_fl,\n",
        "                    'n_estimators': n_estimators,\n",
        "                    'objective': ['binary:logistic']}]\n",
        "knn_param_grid = [{'n_neighbors': param_range,\n",
        "                   'weights': ['uniform', 'distance'],\n",
        "                   'metric': ['euclidean', 'manhattan']}]\n"
      ],
      "metadata": {
        "id": "mLLmkERXFawW"
      },
      "execution_count": 16,
      "outputs": []
    },
    {
      "cell_type": "code",
      "source": [
        "\n",
        "lr_grid_search = GridSearchCV(estimator=clf_lr,\n",
        "        param_grid=lr_param_grid,\n",
        "        scoring='accuracy',\n",
        "        cv=3)\n",
        "svm_grid_search = GridSearchCV(estimator=clf_svm,\n",
        "        param_grid=svm_param_grid,\n",
        "        scoring='accuracy',\n",
        "        cv=3)\n",
        "rf_grid_search = GridSearchCV(estimator=clf_rf,\n",
        "        param_grid=rf_param_grid,\n",
        "        scoring='accuracy',\n",
        "        cv=3)\n",
        "xgb_grid_search = GridSearchCV(estimator=clf_xgb,\n",
        "        param_grid=xgb_param_grid,\n",
        "        scoring='accuracy',\n",
        "        cv=3)\n",
        "knn_grid_search = GridSearchCV(estimator=clf_knn,\n",
        "        param_grid=knn_param_grid,\n",
        "        scoring='accuracy',\n",
        "        cv=3)"
      ],
      "metadata": {
        "id": "MkyOBOy6G4Af"
      },
      "execution_count": 17,
      "outputs": []
    },
    {
      "cell_type": "code",
      "source": [
        "rf_grid_search.fit(X_train_oversampled,y_train_oversampled)\n",
        "\n",
        "print('Random Forest Test Accuracy: {}'.format( rf_grid_search.score(X_test,y_test)))\n",
        "print('Random Forest Best Params: {}'.format( rf_grid_search.best_params_))\n",
        "\n",
        "best_rf = rf_grid_search.best_estimator_\n",
        "\n",
        "y_pred = best_rf.predict(X_test)\n",
        "cm = confusion_matrix(y_test, y_pred)\n",
        "print(classification_report(y_test, y_pred))\n",
        "ConfusionMatrixDisplay(confusion_matrix=cm).plot();"
      ],
      "metadata": {
        "colab": {
          "base_uri": "https://localhost:8080/",
          "height": 648
        },
        "id": "S1TK12Pbxpec",
        "outputId": "a54252f7-d3ad-4846-f117-619814c25184"
      },
      "execution_count": 33,
      "outputs": [
        {
          "output_type": "stream",
          "name": "stdout",
          "text": [
            "Random Forest Test Accuracy: 0.5345119269159194\n",
            "Random Forest Best Params: {'max_depth': 6, 'min_samples_leaf': 4, 'min_samples_split': 3}\n",
            "              precision    recall  f1-score   support\n",
            "\n",
            "           0       0.76      0.49      0.59     57482\n",
            "           1       0.36      0.65      0.46     25272\n",
            "\n",
            "    accuracy                           0.53     82754\n",
            "   macro avg       0.56      0.57      0.53     82754\n",
            "weighted avg       0.63      0.53      0.55     82754\n",
            "\n"
          ]
        },
        {
          "output_type": "display_data",
          "data": {
            "text/plain": [
              "<Figure size 640x480 with 2 Axes>"
            ],
            "image/png": "[encoded data removed]"
          },
          "metadata": {}
        }
      ]
    },
    {
      "cell_type": "code",
      "source": [
        "lr_grid_search.fit(X_train_oversampled,y_train_oversampled)\n",
        "\n",
        "print('LR Test Accuracy: {}'.format( lr_grid_search.score(X_test,y_test)))\n",
        "print('LR Best Params: {}'.format( lr_grid_search.best_params_))\n",
        "\n",
        "best_lr = lr_grid_search.best_estimator_\n",
        "\n",
        "y_pred = best_lr.predict(X_test)\n",
        "cm = confusion_matrix(y_test, y_pred)\n",
        "print(classification_report(y_test, y_pred))\n",
        "ConfusionMatrixDisplay(confusion_matrix=cm).plot();"
      ],
      "metadata": {
        "colab": {
          "base_uri": "https://localhost:8080/",
          "height": 648
        },
        "id": "ioX_2u3Dxpaw",
        "outputId": "9460145b-bfde-4573-dcfd-4714ebfe8b2c"
      },
      "execution_count": 34,
      "outputs": [
        {
          "output_type": "stream",
          "name": "stdout",
          "text": [
            "LR Test Accuracy: 0.6143267999129951\n",
            "LR Best Params: {'C': 0.1, 'penalty': 'l1', 'solver': 'liblinear'}\n",
            "              precision    recall  f1-score   support\n",
            "\n",
            "           0       0.74      0.68      0.71     57482\n",
            "           1       0.39      0.46      0.42     25272\n",
            "\n",
            "    accuracy                           0.61     82754\n",
            "   macro avg       0.57      0.57      0.57     82754\n",
            "weighted avg       0.63      0.61      0.62     82754\n",
            "\n"
          ]
        },
        {
          "output_type": "display_data",
          "data": {
            "text/plain": [
              "<Figure size 640x480 with 2 Axes>"
            ],
            "image/png": "[encoded data removed]"
          },
          "metadata": {}
        }
      ]
    },
    {
      "cell_type": "code",
      "source": [
        "\n",
        "knn_grid_search.fit(X_train_oversampled,y_train_oversampled)\n",
        "\n",
        "print('KNN Test Accuracy: {}'.format( knn_grid_search.score(X_test,y_test)))\n",
        "print('KNN Best Params: {}'.format( knn_grid_search.best_params_))\n",
        "\n",
        "best_knn = knn_grid_search.best_estimator_\n",
        "\n",
        "y_pred = best_knn.predict(X_test)\n",
        "cm = confusion_matrix(y_test, y_pred)\n",
        "print(classification_report(y_test, y_pred))\n",
        "ConfusionMatrixDisplay(confusion_matrix=cm).plot();"
      ],
      "metadata": {
        "colab": {
          "base_uri": "https://localhost:8080/",
          "height": 648
        },
        "id": "WtX_xod8XoOP",
        "outputId": "efac22f2-ab57-4d51-f4d8-615f9ada6618"
      },
      "execution_count": 37,
      "outputs": [
        {
          "output_type": "stream",
          "name": "stdout",
          "text": [
            "KNN Test Accuracy: 0.5781351958817701\n",
            "KNN Best Params: {'metric': 'manhattan', 'n_neighbors': 2, 'weights': 'distance'}\n",
            "              precision    recall  f1-score   support\n",
            "\n",
            "           0       0.70      0.68      0.69     57482\n",
            "           1       0.32      0.35      0.33     25272\n",
            "\n",
            "    accuracy                           0.58     82754\n",
            "   macro avg       0.51      0.51      0.51     82754\n",
            "weighted avg       0.59      0.58      0.58     82754\n",
            "\n"
          ]
        },
        {
          "output_type": "display_data",
          "data": {
            "text/plain": [
              "<Figure size 640x480 with 2 Axes>"
            ],
            "image/png": "[encoded data removed]"
          },
          "metadata": {}
        }
      ]
    },
    {
      "cell_type": "code",
      "source": [
        "clf_dt =  DecisionTreeClassifier(random_state=42)\n",
        "\n",
        "dt_param_grid = [{'criterion': ['gini', 'entropy'],\n",
        "                   'min_samples_leaf': param_range,\n",
        "                   'max_depth': param_range,\n",
        "                   'min_samples_split': param_range[1:]}]\n",
        "\n",
        "dt_grid_search = GridSearchCV(estimator=clf_dt,\n",
        "        param_grid=dt_param_grid,\n",
        "        scoring='accuracy',\n",
        "        cv=3)\n",
        "\n",
        "dt_grid_search.fit(X_train_oversampled,y_train_oversampled)\n",
        "\n",
        "print('DT Test Accuracy: {}'.format( dt_grid_search.score(X_test,y_test)))\n",
        "print('DT Best Params: {}'.format( dt_grid_search.best_params_))\n",
        "\n",
        "best_dt = dt_grid_search.best_estimator_\n",
        "\n",
        "y_pred = best_dt.predict(X_test)\n",
        "cm = confusion_matrix(y_test, y_pred)\n",
        "print(classification_report(y_test, y_pred))\n",
        "ConfusionMatrixDisplay(confusion_matrix=cm).plot();"
      ],
      "metadata": {
        "colab": {
          "base_uri": "https://localhost:8080/",
          "height": 648
        },
        "id": "wBPV87YdXoK0",
        "outputId": "1337838a-db1e-427f-d487-14cb14ef71a4"
      },
      "execution_count": 38,
      "outputs": [
        {
          "output_type": "stream",
          "name": "stdout",
          "text": [
            "DT Test Accuracy: 0.6123087705730237\n",
            "DT Best Params: {'criterion': 'gini', 'max_depth': 4, 'min_samples_leaf': 2, 'min_samples_split': 3}\n",
            "              precision    recall  f1-score   support\n",
            "\n",
            "           0       0.74      0.69      0.71     57482\n",
            "           1       0.38      0.45      0.41     25272\n",
            "\n",
            "    accuracy                           0.61     82754\n",
            "   macro avg       0.56      0.57      0.56     82754\n",
            "weighted avg       0.63      0.61      0.62     82754\n",
            "\n"
          ]
        },
        {
          "output_type": "display_data",
          "data": {
            "text/plain": [
              "<Figure size 640x480 with 2 Axes>"
            ],
            "image/png": "[encoded data removed]"
          },
          "metadata": {}
        }
      ]
    },
    {
      "cell_type": "code",
      "source": [
        "svm_param_grid = svm.SVC(kernel = 'rbf', random_state=46)\n",
        "\n",
        "'''\n",
        "clf_svm = svm.SVC(kernel = 'rbf', random_state=46)\n",
        "svm_param_grid = [{'kernel': ['linear', 'rbf'],\n",
        "                    'C': param_range[:1]}]\n",
        "\n",
        "svm_grid_search = GridSearchCV(estimator=clf_svm,\n",
        "        param_grid=svm_param_grid,\n",
        "        scoring='accuracy',\n",
        "        cv=3)\n",
        "'''\n",
        "svm_grid_search.fit(X_train_oversampled,y_train_oversampled)\n",
        "best_svm = svm_grid_search.best_estimator_\n",
        "\n",
        "print('SVM Test Accuracy: {}'.format( svm_grid_search.score(X_test,y_test)))\n",
        "print('SVM Best Params: {}'.format( svm_grid_search.best_params_))\n",
        "\n",
        "\n",
        "\n",
        "y_pred = best_svm.predict(X_test)\n",
        "cm = confusion_matrix(y_test, y_pred)\n",
        "print(classification_report(y_test, y_pred))\n",
        "ConfusionMatrixDisplay(confusion_matrix=cm).plot();"
      ],
      "metadata": {
        "id": "APyd2J6MXoHs"
      },
      "execution_count": null,
      "outputs": []
    },
    {
      "cell_type": "code",
      "source": [],
      "metadata": {
        "id": "zXL11839XoEu"
      },
      "execution_count": null,
      "outputs": []
    },
    {
      "cell_type": "code",
      "source": [],
      "metadata": {
        "id": "txexZuhkXn99"
      },
      "execution_count": null,
      "outputs": []
    },
    {
      "cell_type": "code",
      "source": [],
      "metadata": {
        "id": "Ky2vKhahXn6t"
      },
      "execution_count": null,
      "outputs": []
    },
    {
      "cell_type": "code",
      "source": [],
      "metadata": {
        "id": "gjTBFpbfXn3d"
      },
      "execution_count": 29,
      "outputs": []
    }
  ]
}